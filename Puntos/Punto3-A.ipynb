{
 "cells": [
  {
   "cell_type": "code",
   "execution_count": 1,
   "id": "81cdcf22",
   "metadata": {},
   "outputs": [],
   "source": [
    "import subprocess\n",
    "import json\n",
    "import pandas as pd\n",
    "import duckdb\n",
    "\n",
    "con = duckdb.connect(\"../files/ads.duckdb\")"
   ]
  },
  {
   "cell_type": "markdown",
   "id": "61b50419",
   "metadata": {},
   "source": [
    "**Al ejecutar el comando, debes especificar las fechas start_date y end_date que corresponden al rango de días que deseas analizar.**\n",
    "\n",
    "- La lógica del modelo compara automáticamente este rango con el mismo número de días previos a start_date.\n",
    "\n",
    "poetry run dbt run --vars \"{\\\"start_date\\\": \\\"2025-02-15\\\", \\\"end_date\\\": \\\"2025-02-20\\\"}\"\n",
    "\n"
   ]
  },
  {
   "cell_type": "code",
   "execution_count": 2,
   "id": "699521e6",
   "metadata": {},
   "outputs": [
    {
     "data": {
      "application/vnd.microsoft.datawrangler.viewer.v0+json": {
       "columns": [
        {
         "name": "index",
         "rawType": "int64",
         "type": "integer"
        },
        {
         "name": "metric",
         "rawType": "object",
         "type": "string"
        },
        {
         "name": "last_value",
         "rawType": "float64",
         "type": "float"
        },
        {
         "name": "prev_value",
         "rawType": "float64",
         "type": "float"
        },
        {
         "name": "delta_abs",
         "rawType": "float64",
         "type": "float"
        },
        {
         "name": "delta_pct",
         "rawType": "float64",
         "type": "float"
        }
       ],
       "ref": "fbe6f9b1-84d9-4b84-b64b-074ffc0ff5b7",
       "rows": [
        [
         "0",
         "CAC",
         "39.62696566268568",
         "41.56920217990302",
         "-1.9422365172173457",
         "-4.672296833631164"
        ],
        [
         "1",
         "ROAS",
         "3.1606314399905155",
         "3.0907361483325255",
         "0.06989529165799002",
         "2.261444791904965"
        ]
       ],
       "shape": {
        "columns": 5,
        "rows": 2
       }
      },
      "text/html": [
       "<div>\n",
       "<style scoped>\n",
       "    .dataframe tbody tr th:only-of-type {\n",
       "        vertical-align: middle;\n",
       "    }\n",
       "\n",
       "    .dataframe tbody tr th {\n",
       "        vertical-align: top;\n",
       "    }\n",
       "\n",
       "    .dataframe thead th {\n",
       "        text-align: right;\n",
       "    }\n",
       "</style>\n",
       "<table border=\"1\" class=\"dataframe\">\n",
       "  <thead>\n",
       "    <tr style=\"text-align: right;\">\n",
       "      <th></th>\n",
       "      <th>metric</th>\n",
       "      <th>last_value</th>\n",
       "      <th>prev_value</th>\n",
       "      <th>delta_abs</th>\n",
       "      <th>delta_pct</th>\n",
       "    </tr>\n",
       "  </thead>\n",
       "  <tbody>\n",
       "    <tr>\n",
       "      <th>0</th>\n",
       "      <td>CAC</td>\n",
       "      <td>39.626966</td>\n",
       "      <td>41.569202</td>\n",
       "      <td>-1.942237</td>\n",
       "      <td>-4.672297</td>\n",
       "    </tr>\n",
       "    <tr>\n",
       "      <th>1</th>\n",
       "      <td>ROAS</td>\n",
       "      <td>3.160631</td>\n",
       "      <td>3.090736</td>\n",
       "      <td>0.069895</td>\n",
       "      <td>2.261445</td>\n",
       "    </tr>\n",
       "  </tbody>\n",
       "</table>\n",
       "</div>"
      ],
      "text/plain": [
       "  metric  last_value  prev_value  delta_abs  delta_pct\n",
       "0    CAC   39.626966   41.569202  -1.942237  -4.672297\n",
       "1   ROAS    3.160631    3.090736   0.069895   2.261445"
      ]
     },
     "execution_count": 2,
     "metadata": {},
     "output_type": "execute_result"
    }
   ],
   "source": [
    "\n",
    "query = \"SELECT * FROM compare_n_days;\"  \n",
    "\n",
    "df = con.execute(query).df()\n",
    "df"
   ]
  }
 ],
 "metadata": {
  "kernelspec": {
   "display_name": "Python 3",
   "language": "python",
   "name": "python3"
  },
  "language_info": {
   "codemirror_mode": {
    "name": "ipython",
    "version": 3
   },
   "file_extension": ".py",
   "mimetype": "text/x-python",
   "name": "python",
   "nbconvert_exporter": "python",
   "pygments_lexer": "ipython3",
   "version": "3.12.8"
  }
 },
 "nbformat": 4,
 "nbformat_minor": 5
}
